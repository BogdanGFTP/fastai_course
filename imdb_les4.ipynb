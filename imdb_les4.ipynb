{
  "nbformat": 4,
  "nbformat_minor": 0,
  "metadata": {
    "colab": {
      "name": "imdb_les4.ipynb",
      "version": "0.3.2",
      "provenance": [],
      "include_colab_link": true
    },
    "kernelspec": {
      "name": "python3",
      "display_name": "Python 3"
    },
    "accelerator": "GPU"
  },
  "cells": [
    {
      "cell_type": "markdown",
      "metadata": {
        "id": "view-in-github",
        "colab_type": "text"
      },
      "source": [
        "<a href=\"https://colab.research.google.com/github/BogdanGFTP/fastai_course/blob/master/imdb_les4.ipynb\" target=\"_parent\"><img src=\"https://colab.research.google.com/assets/colab-badge.svg\" alt=\"Open In Colab\"/></a>"
      ]
    },
    {
      "metadata": {
        "id": "GCgVqc_qV9cp",
        "colab_type": "code",
        "colab": {
          "base_uri": "https://localhost:8080/",
          "height": 211
        },
        "outputId": "51670f84-d3a0-40d4-d84c-acfe3bc21267"
      },
      "cell_type": "code",
      "source": [
        "from google.colab import drive\n",
        "drive.mount('/content/gdrive')"
      ],
      "execution_count": 1,
      "outputs": [
        {
          "output_type": "stream",
          "text": [
            
          ],
          "name": "stdout"
        }
      ]
    },
    {
      "metadata": {
        "id": "B77SxTHhWFIl",
        "colab_type": "code",
        "colab": {}
      },
      "cell_type": "code",
      "source": [
        "import tarfile\n",
        "tar = tarfile.open(\"gdrive/My Drive/Fast.ai course files/aclImdb.tar\")\n",
        "tar.extractall()\n",
        "tar.close()"
      ],
      "execution_count": 0,
      "outputs": []
    },
    {
      "metadata": {
        "id": "Ms5ohoL-WJVu",
        "colab_type": "code",
        "colab": {
          "base_uri": "https://localhost:8080/",
          "height": 4185
        },
        "outputId": "9b988d72-373a-43db-f7eb-f42f41076b68"
      },
      "cell_type": "code",
      "source": [
        "!pip install \"fastai==0.7.0\"\n",
        "!apt-get -qq install -y libsm6 libxext6 && pip install -q -U opencv-python\n",
        "import cv2\n",
        "from os import path\n",
        "from wheel.pep425tags import get_abbr_impl, get_impl_ver, get_abi_tag\n",
        "platform = '{}{}-{}'.format(get_abbr_impl(), get_impl_ver(), get_abi_tag())\n",
        "\n",
        "accelerator = 'cu80' if path.exists('/opt/bin/nvidia-smi') else 'cpu'\n",
        "\n",
        "!pip install -q http://download.pytorch.org/whl/{accelerator}/torch-0.3.0.post4-{platform}-linux_x86_64.whl torchvision\n",
        "!pip install Pillow>=4.1.1\n",
        "!pip install image\n",
        "!pip install torchtext==0.2.3\n",
        "\n",
        "!pip install seaborn --upgrade matplotlib\n",
        "!pip install seaborn --upgrade pandas\n",
        "!pip install seaborn --upgrade pillow\n",
        "!pip install seaborn --upgrade plotly"
      ],
      "execution_count": 3,
      "outputs": [
        {
          "output_type": "stream",
          "text": [
            
          ],
          "name": "stdout"
        }
      ]
    },
    {
      "metadata": {
        "id": "RzC_MyPHWd1r",
        "colab_type": "code",
        "colab": {}
      },
      "cell_type": "code",
      "source": [
        "# !pip install pillow==4.1.1"
      ],
      "execution_count": 0,
      "outputs": []
    },
    {
      "metadata": {
        "id": "GIE4PkyxWiLv",
        "colab_type": "code",
        "colab": {}
      },
      "cell_type": "code",
      "source": [
        "# !{sys.executable} -m pip install pyarrow==0.10.0"
      ],
      "execution_count": 0,
      "outputs": []
    },
    {
      "metadata": {
        "id": "K4DTfSeaWkt9",
        "colab_type": "code",
        "colab": {}
      },
      "cell_type": "code",
      "source": [
        "# !pip install pandas --upgrade"
      ],
      "execution_count": 0,
      "outputs": []
    },
    {
      "metadata": {
        "id": "TlF3AcdaWnuG",
        "colab_type": "code",
        "colab": {}
      },
      "cell_type": "code",
      "source": [
        "# from PIL import Image\n",
        "import matplotlib.pyplot as plt"
      ],
      "execution_count": 0,
      "outputs": []
    },
    {
      "metadata": {
        "id": "6TnD3ykUWuPW",
        "colab_type": "code",
        "colab": {
          "base_uri": "https://localhost:8080/",
          "height": 1020
        },
        "outputId": "d8b88dff-7564-478e-f371-e82c7948ddd3"
      },
      "cell_type": "code",
      "source": [
        "!wget -O /usr/local/lib/python3.6/dist-packages/fastai/weights.tgz http://files.fast.ai/models/weights.tgz"
      ],
      "execution_count": 5,
      "outputs": [
        {
          "output_type": "stream",
          "text": [
            
          ],
          "name": "stdout"
        }
      ]
    },
    {
      "metadata": {
        "id": "yBOsBlhBWwbL",
        "colab_type": "code",
        "colab": {
          "base_uri": "https://localhost:8080/",
          "height": 167
        },
        "outputId": "82fc2e08-eea1-4df5-acba-b57599ec9ed8"
      },
      "cell_type": "code",
      "source": [
        "!tar xvfz /usr/local/lib/python3.6/dist-packages/fastai/weights.tgz -C /usr/local/lib/python3.6/dist-packages/fastai"
      ],
      "execution_count": 6,
      "outputs": [
        {
          "output_type": "stream",
          "text": [
            
          ],
          "name": "stdout"
        }
      ]
    },
    {
      "metadata": {
        "id": "X43sc3grWzE4",
        "colab_type": "code",
        "colab": {}
      },
      "cell_type": "code",
      "source": [
        "from fastai.learner import *\n",
        "\n",
        "import torchtext\n",
        "from torchtext import vocab, data\n",
        "from torchtext.datasets import language_modeling\n",
        "\n",
        "from fastai.rnn_reg import *\n",
        "from fastai.rnn_train import *\n",
        "from fastai.nlp import *\n",
        "from fastai.lm_rnn import *\n",
        "\n",
        "import dill as pickle\n",
        "import spacy"
      ],
      "execution_count": 0,
      "outputs": []
    },
    {
      "metadata": {
        "id": "7zxoZ7J0h4yj",
        "colab_type": "code",
        "colab": {}
      },
      "cell_type": "code",
      "source": [
        "PATH = 'aclImdb/'\n",
        "\n",
        "TRN_PATH = 'train/all/'\n",
        "VAL_PATH = 'test/all/'\n",
        "TRN = f'{PATH}{TRN_PATH}'\n",
        "VAL = f'{PATH}{VAL_PATH}'"
      ],
      "execution_count": 0,
      "outputs": []
    },
    {
      "metadata": {
        "id": "sVZPDP-qi2z6",
        "colab_type": "code",
        "colab": {
          "base_uri": "https://localhost:8080/",
          "height": 1000
        },
        "outputId": "caa4bbb9-07c6-40dd-f4c9-2331d263e298"
      },
      "cell_type": "code",
      "source": [
        "trn_files = !ls {TRN}\n",
        "trn_files[:10]"
      ],
      "execution_count": 10,
      "outputs": [
        {
          "output_type": "execute_result",
          "data": {
            "text/plain": [
              "['0_0.txt       1562_10.txt  24997_0.txt\\t34371_0.txt  43748_0.txt  6248_7.txt',\n",
              " '0_3.txt       15621_0.txt  24998_0.txt\\t3437_1.txt   43749_0.txt  6249_0.txt',\n",
              " '0_9.txt       1562_1.txt   24999_0.txt\\t34372_0.txt  437_4.txt\\t  6249_2.txt',\n",
              " '10000_0.txt   15622_0.txt  25000_0.txt\\t34373_0.txt  43750_0.txt  6249_7.txt',\n",
              " '10000_4.txt   15623_0.txt  2500_0.txt\\t34374_0.txt  4375_0.txt   624_9.txt',\n",
              " '10000_8.txt   15624_0.txt  25001_0.txt\\t34375_0.txt  43751_0.txt  6250_0.txt',\n",
              " '1000_0.txt    15625_0.txt  2500_1.txt\\t34376_0.txt  4375_1.txt   6250_10.txt',\n",
              " '10001_0.txt   15626_0.txt  25002_0.txt\\t34377_0.txt  43752_0.txt  6250_1.txt',\n",
              " '10001_10.txt  15627_0.txt  25003_0.txt\\t34378_0.txt  43753_0.txt  625_0.txt',\n",
              " '10001_4.txt   15628_0.txt  25004_0.txt\\t3437_8.txt   43754_0.txt  625_10.txt']"
            ]
          },
          "metadata": {
            "tags": []
          },
          "execution_count": 10
        }
      ]
    },
    {
      "metadata": {
        "id": "Cf5ponQ6jCg-",
        "colab_type": "code",
        "colab": {
          "base_uri": "https://localhost:8080/",
          "height": 193
        },
        "outputId": "0a5273a8-1200-46b2-de33-8f434a326192"
      },
      "cell_type": "code",
      "source": [
        "review = !cat {TRN}{trn_files[6]}\n",
        "review[0]"
      ],
      "execution_count": 11,
      "outputs": [
        {
          "output_type": "execute_result",
          "data": {
            "text/plain": [
              "\"I have to say when a name like Zombiegeddon and an atom bomb on the front cover I was expecting a flat out chop-socky fung-ku, but what I got instead was a comedy. So, it wasn't quite was I was expecting, but I really liked it anyway! The best scene ever was the main cop dude pulling those kids over and pulling a Bad Lieutenant on them!! I was laughing my ass off. I mean, the cops were just so bad! And when I say bad, I mean The Shield Vic Macky bad. But unlike that show I was laughing when they shot people and smoked dope.<br /><br />Felissa Rose...man, oh man. What can you say about that hottie. She was great and put those other actresses to shame. She should work more often!!!!! I also really liked the fight scene outside of the building. That was done really well. Lots of fighting and people getting their heads banged up. FUN! Last, but not least Joe Estevez and William Smith were great as the...well, I wasn't sure what they were, but they seemed to be having fun and throwing out lines. I mean, some of it didn't make sense with the rest of the flick, but who cares when you're laughing so hard! All in all the film wasn't the greatest thing since sliced bread, but I wasn't expecting that. It was a Troma flick so I figured it would totally suck. It's nice when something surprises you but not totally sucking.<br /><br />Rent it if you want to get stoned on a Friday night and laugh with your buddies. Don't rent it if you are an uptight weenie or want a zombie movie with lots of flesh eating.<br /><br />P.S. Uwe Boil was a nice touch.cat: 15625_0.txt: No such file or directory\""
            ]
          },
          "metadata": {
            "tags": []
          },
          "execution_count": 11
        }
      ]
    },
    {
      "metadata": {
        "id": "nMatT3CEjNw5",
        "colab_type": "code",
        "colab": {
          "base_uri": "https://localhost:8080/",
          "height": 65
        },
        "outputId": "8b947e2d-2d8a-4db7-b7da-707f0245e947"
      },
      "cell_type": "code",
      "source": [
        "# How many words are in the ds\n",
        "!find {TRN} -name '*.txt' | xargs cat | wc -w"
      ],
      "execution_count": 12,
      "outputs": [
        {
          "output_type": "stream",
          "text": [
            "17486581\n"
          ],
          "name": "stdout"
        }
      ]
    },
    {
      "metadata": {
        "id": "Yu2Wo-vBjcIS",
        "colab_type": "code",
        "colab": {
          "base_uri": "https://localhost:8080/",
          "height": 65
        },
        "outputId": "fba0091a-34a5-4747-9b2c-ab6a440ecc77"
      },
      "cell_type": "code",
      "source": [
        "!find {VAL} -name '*.txt' | xargs cat | wc -w"
      ],
      "execution_count": 13,
      "outputs": [
        {
          "output_type": "stream",
          "text": [
            "5686719\n"
          ],
          "name": "stdout"
        }
      ]
    },
    {
      "metadata": {
        "id": "a9qDq8dzj6AO",
        "colab_type": "text"
      },
      "cell_type": "markdown",
      "source": [
        "Tokenizing text"
      ]
    },
    {
      "metadata": {
        "id": "Mc6i4JMujmMW",
        "colab_type": "code",
        "colab": {}
      },
      "cell_type": "code",
      "source": [
        "# $ python -m spacy download en"
      ],
      "execution_count": 0,
      "outputs": []
    },
    {
      "metadata": {
        "id": "7FrCGf2EkKdh",
        "colab_type": "code",
        "colab": {}
      },
      "cell_type": "code",
      "source": [
        "spacy_tok = spacy.load('en')"
      ],
      "execution_count": 0,
      "outputs": []
    },
    {
      "metadata": {
        "id": "QOLcgvflkQGm",
        "colab_type": "code",
        "colab": {
          "base_uri": "https://localhost:8080/",
          "height": 94
        },
        "outputId": "b5a9c762-06ba-442a-a799-ebc3c2942197"
      },
      "cell_type": "code",
      "source": [
        "' '.join([sent.string.strip() for sent in spacy_tok(review[0])])"
      ],
      "execution_count": 15,
      "outputs": [
        {
          "output_type": "execute_result",
          "data": {
            "text/plain": [
              "\"I have to say when a name like Zombiegeddon and an atom bomb on the front cover I was expecting a flat out chop - socky fung - ku , but what I got instead was a comedy . So , it was n't quite was I was expecting , but I really liked it anyway ! The best scene ever was the main cop dude pulling those kids over and pulling a Bad Lieutenant on them ! ! I was laughing my ass off . I mean , the cops were just so bad ! And when I say bad , I mean The Shield Vic Macky bad . But unlike that show I was laughing when they shot people and smoked dope.<br /><br />Felissa Rose ... man , oh man . What can you say about that hottie . She was great and put those other actresses to shame . She should work more often ! ! ! ! ! I also really liked the fight scene outside of the building . That was done really well . Lots of fighting and people getting their heads banged up . FUN ! Last , but not least Joe Estevez and William Smith were great as the ... well , I was n't sure what they were , but they seemed to be having fun and throwing out lines . I mean , some of it did n't make sense with the rest of the flick , but who cares when you 're laughing so hard ! All in all the film was n't the greatest thing since sliced bread , but I was n't expecting that . It was a Troma flick so I figured it would totally suck . It 's nice when something surprises you but not totally sucking.<br /><br />Rent it if you want to get stoned on a Friday night and laugh with your buddies . Do n't rent it if you are an uptight weenie or want a zombie movie with lots of flesh eating.<br /><br />P.S. Uwe Boil was a nice touch.cat : 15625_0.txt : No such file or directory\""
            ]
          },
          "metadata": {
            "tags": []
          },
          "execution_count": 15
        }
      ]
    },
    {
      "metadata": {
        "id": "XnqO0Hk5kdSw",
        "colab_type": "code",
        "colab": {}
      },
      "cell_type": "code",
      "source": [
        "TEXT = data.Field(lower=True, tokenize='spacy')"
      ],
      "execution_count": 0,
      "outputs": []
    },
    {
      "metadata": {
        "id": "8wQG2WSXkq7u",
        "colab_type": "code",
        "colab": {}
      },
      "cell_type": "code",
      "source": [
        "bs = 64\n",
        "bptt = 70"
      ],
      "execution_count": 0,
      "outputs": []
    },
    {
      "metadata": {
        "id": "RnkacEe9k10G",
        "colab_type": "code",
        "colab": {}
      },
      "cell_type": "code",
      "source": [
        "FILES = dict(train=TRN_PATH, validation=VAL_PATH, test=VAL_PATH)\n",
        "md = LanguageModelData.from_text_files(PATH, TEXT, **FILES, bs=bs, bptt=bptt, min_freq=10)"
      ],
      "execution_count": 0,
      "outputs": []
    },
    {
      "metadata": {
        "id": "8id0ABqv5VQ7",
        "colab_type": "code",
        "colab": {}
      },
      "cell_type": "code",
      "source": [
        "!mkdir aclImdb/models"
      ],
      "execution_count": 0,
      "outputs": []
    },
    {
      "metadata": {
        "id": "LEJ4odp7lb2V",
        "colab_type": "code",
        "colab": {}
      },
      "cell_type": "code",
      "source": [
        "pickle.dump(TEXT, open(f'{PATH}models/TEXT.pkl', 'wb'))"
      ],
      "execution_count": 0,
      "outputs": []
    },
    {
      "metadata": {
        "id": "udHKI67blxLV",
        "colab_type": "code",
        "colab": {
          "base_uri": "https://localhost:8080/",
          "height": 34
        },
        "outputId": "dea5fd06-8047-4195-b5d0-1f281e4ea6d2"
      },
      "cell_type": "code",
      "source": [
        "len(md.trn_dl), md.nt, len(md.trn_ds), len(md.trn_ds[0].text)"
      ],
      "execution_count": 24,
      "outputs": [
        {
          "output_type": "execute_result",
          "data": {
            "text/plain": [
              "(4583, 37392, 1, 20540756)"
            ]
          },
          "metadata": {
            "tags": []
          },
          "execution_count": 24
        }
      ]
    },
    {
      "metadata": {
        "id": "9YRAaqM5mCHv",
        "colab_type": "code",
        "colab": {
          "base_uri": "https://localhost:8080/",
          "height": 34
        },
        "outputId": "f8d52e0b-6f11-42e5-d36e-18513668a201"
      },
      "cell_type": "code",
      "source": [
        "# 'itos': 'int-to-string'\n",
        "TEXT.vocab.itos[:12]"
      ],
      "execution_count": 25,
      "outputs": [
        {
          "output_type": "execute_result",
          "data": {
            "text/plain": [
              "['<unk>', '<pad>', 'the', ',', '.', 'and', 'a', 'of', 'to', 'is', 'in', 'it']"
            ]
          },
          "metadata": {
            "tags": []
          },
          "execution_count": 25
        }
      ]
    },
    {
      "metadata": {
        "id": "ibKhfjcZmVCH",
        "colab_type": "code",
        "colab": {
          "base_uri": "https://localhost:8080/",
          "height": 34
        },
        "outputId": "2b0caa02-4827-4c79-d312-bfc98d767838"
      },
      "cell_type": "code",
      "source": [
        "# 'stoi': 'string-to-int'\n",
        "TEXT.vocab.stoi['the']"
      ],
      "execution_count": 27,
      "outputs": [
        {
          "output_type": "execute_result",
          "data": {
            "text/plain": [
              "2"
            ]
          },
          "metadata": {
            "tags": []
          },
          "execution_count": 27
        }
      ]
    },
    {
      "metadata": {
        "id": "gbYxktSRnScL",
        "colab_type": "code",
        "colab": {
          "base_uri": "https://localhost:8080/",
          "height": 221
        },
        "outputId": "ed404483-80e1-41cc-9f88-ff4b00d3598a"
      },
      "cell_type": "code",
      "source": [
        "md.trn_ds[0].text[:12]"
      ],
      "execution_count": 28,
      "outputs": [
        {
          "output_type": "execute_result",
          "data": {
            "text/plain": [
              "['this',\n",
              " 'movie',\n",
              " 'made',\n",
              " 'it',\n",
              " 'into',\n",
              " 'one',\n",
              " 'of',\n",
              " 'my',\n",
              " 'top',\n",
              " '10',\n",
              " 'most',\n",
              " 'awful']"
            ]
          },
          "metadata": {
            "tags": []
          },
          "execution_count": 28
        }
      ]
    },
    {
      "metadata": {
        "id": "CEqHoZ7EnXKu",
        "colab_type": "code",
        "colab": {
          "base_uri": "https://localhost:8080/",
          "height": 255
        },
        "outputId": "7b3de0e7-6616-463c-a5c7-3faed1246fb8"
      },
      "cell_type": "code",
      "source": [
        "TEXT.numericalize([md.trn_ds[0].text[:12]])"
      ],
      "execution_count": 29,
      "outputs": [
        {
          "output_type": "execute_result",
          "data": {
            "text/plain": [
              "Variable containing:\n",
              "   13\n",
              "   23\n",
              "  107\n",
              "   11\n",
              "   95\n",
              "   37\n",
              "    7\n",
              "   76\n",
              "  367\n",
              "  328\n",
              "  104\n",
              "  402\n",
              "[torch.cuda.LongTensor of size 12x1 (GPU 0)]"
            ]
          },
          "metadata": {
            "tags": []
          },
          "execution_count": 29
        }
      ]
    },
    {
      "metadata": {
        "id": "bLLgW-gmnfdO",
        "colab_type": "code",
        "colab": {
          "base_uri": "https://localhost:8080/",
          "height": 306
        },
        "outputId": "b83a7070-6d83-4ccf-bccd-1f6b01656823"
      },
      "cell_type": "code",
      "source": [
        "next(iter(md.trn_dl))"
      ],
      "execution_count": 30,
      "outputs": [
        {
          "output_type": "execute_result",
          "data": {
            "text/plain": [
              "(Variable containing:\n",
              "     13   1831      3  ...       4    451     14\n",
              "     23   1081    316  ...      83   6063      9\n",
              "    107     13   3836  ...     161  11295   4055\n",
              "         ...            ⋱           ...         \n",
              "     93   1869   3836  ...       6   1288     20\n",
              "   1682   1991    177  ...     356     46      6\n",
              "     14   1490     27  ...       7    299   3470\n",
              " [torch.cuda.LongTensor of size 71x64 (GPU 0)], Variable containing:\n",
              "     23\n",
              "   1081\n",
              "    316\n",
              "   ⋮   \n",
              "   2128\n",
              "    123\n",
              "  24435\n",
              " [torch.cuda.LongTensor of size 4544 (GPU 0)])"
            ]
          },
          "metadata": {
            "tags": []
          },
          "execution_count": 30
        }
      ]
    },
    {
      "metadata": {
        "id": "KUbrX-Fmn2B-",
        "colab_type": "text"
      },
      "cell_type": "markdown",
      "source": [
        "Train"
      ]
    },
    {
      "metadata": {
        "id": "WinxADjFnr3Z",
        "colab_type": "code",
        "colab": {}
      },
      "cell_type": "code",
      "source": [
        "em_sz = 200 # size of each embedding vector\n",
        "nh = 500    # number of hidden activations per layer\n",
        "nl = 3      # number of layers"
      ],
      "execution_count": 0,
      "outputs": []
    },
    {
      "metadata": {
        "id": "Vfm-JrgGoMEa",
        "colab_type": "code",
        "colab": {}
      },
      "cell_type": "code",
      "source": [
        "opt_fn = partial(optim.Adam, betas=(0.7, 0.99))"
      ],
      "execution_count": 0,
      "outputs": []
    },
    {
      "metadata": {
        "id": "3TQ72STeoVkb",
        "colab_type": "code",
        "colab": {}
      },
      "cell_type": "code",
      "source": [
        "learner = md.get_model(opt_fn, em_sz, nh, nl, dropouti=0.05,\n",
        "                      dropout=0.05, wdrop=0.1, dropoute=0.02, dropouth=0.05)\n",
        "learner.reg_fn = partial(seq2seq_reg, alpha=2, beta=1)\n",
        "learner.clip=0.3"
      ],
      "execution_count": 0,
      "outputs": []
    },
    {
      "metadata": {
        "id": "Etx21gE1pLky",
        "colab_type": "code",
        "colab": {
          "base_uri": "https://localhost:8080/",
          "height": 1020
        },
        "outputId": "4d2b1ea0-3137-4ef2-a923-85a89d71a815"
      },
      "cell_type": "code",
      "source": [
        "learner.fit(3e-3, 4, wds=1e-6, cycle_len=1, cycle_mult=2)"
      ],
      "execution_count": 34,
      "outputs": [
        {
          "output_type": "display_data",
          "data": {
            "application/vnd.jupyter.widget-view+json": {
              "model_id": "63694ad94f7c4b14918853dd259fadfb",
              "version_minor": 0,
              "version_major": 2
            },
            "text/plain": [
              "HBox(children=(IntProgress(value=0, description='Epoch', max=15, style=ProgressStyle(description_width='initia…"
            ]
          },
          "metadata": {
            "tags": []
          }
        },
        {
          "output_type": "stream",
          "text": [
            "epoch      trn_loss   val_loss   \n",
            "    0      4.857316   4.760821  \n",
            "    1      4.647547   4.536541  \n",
            "    2      4.526532   4.451085  \n",
            "    3      4.583891   4.470384  \n",
            "    4      4.495273   4.397718  \n",
            "    5      4.420798   4.342571  \n",
            "    6      4.393184   4.325964  \n",
            "    7      4.515738   4.414149  \n",
            "    8      4.48249    4.387429  \n",
            "    9      4.44446    4.359053  \n",
            "    10     4.413453   4.325632  \n",
            "    11     4.365878   4.297578  \n",
            "    12     4.3346     4.273429  \n",
            "    13     4.326683   4.260329  \n",
            "    14     4.283883   4.256827  \n",
            "\n"
          ],
          "name": "stdout"
        },
        {
          "output_type": "execute_result",
          "data": {
            "text/plain": [
              "[array([4.25683])]"
            ]
          },
          "metadata": {
            "tags": []
          },
          "execution_count": 34
        }
      ]
    },
    {
      "metadata": {
        "id": "k0mBv6qmpVms",
        "colab_type": "code",
        "colab": {}
      },
      "cell_type": "code",
      "source": [
        "learner.save_encoder('adam1_enc')"
      ],
      "execution_count": 0,
      "outputs": []
    },
    {
      "metadata": {
        "id": "b0iXB19Gpklc",
        "colab_type": "code",
        "colab": {}
      },
      "cell_type": "code",
      "source": [
        "learner.load_encoder('adam1_enc')"
      ],
      "execution_count": 0,
      "outputs": []
    },
    {
      "metadata": {
        "id": "LWnT3_egpqyr",
        "colab_type": "code",
        "colab": {
          "base_uri": "https://localhost:8080/",
          "height": 1020
        },
        "outputId": "bd794f7c-565e-4b16-aeb5-1999c643a13a"
      },
      "cell_type": "code",
      "source": [
        "learner.fit(3e-3, 1, wds=1e-6, cycle_len=10)"
      ],
      "execution_count": 37,
      "outputs": [
        {
          "output_type": "display_data",
          "data": {
            "application/vnd.jupyter.widget-view+json": {
              "model_id": "ab463e4265c74897a2fb50d1111ff1a5",
              "version_minor": 0,
              "version_major": 2
            },
            "text/plain": [
              "HBox(children=(IntProgress(value=0, description='Epoch', max=10, style=ProgressStyle(description_width='initia…"
            ]
          },
          "metadata": {
            "tags": []
          }
        },
        {
          "output_type": "stream",
          "text": [
            "epoch      trn_loss   val_loss   \n",
            "    0      4.459133   4.368936  \n",
            "    1      4.449753   4.358021  \n",
            "    2      4.425812   4.341074  \n",
            "    3      4.395653   4.32034   \n",
            "    4      4.365483   4.295221  \n",
            "    5      4.334033   4.272818  \n",
            "    6      4.306159   4.252659  \n",
            "    7      4.285843   4.238028  \n",
            "    8      4.296537   4.231432  \n",
            "    9      4.28098    4.229016  \n",
            "\n"
          ],
          "name": "stdout"
        },
        {
          "output_type": "execute_result",
          "data": {
            "text/plain": [
              "[array([4.22902])]"
            ]
          },
          "metadata": {
            "tags": []
          },
          "execution_count": 37
        }
      ]
    },
    {
      "metadata": {
        "id": "Gkb6MJxlpztU",
        "colab_type": "code",
        "colab": {}
      },
      "cell_type": "code",
      "source": [
        "learner.save_encoder('adam3_10_enc')"
      ],
      "execution_count": 0,
      "outputs": []
    },
    {
      "metadata": {
        "id": "72GrGbIhqAXC",
        "colab_type": "code",
        "colab": {}
      },
      "cell_type": "code",
      "source": [
        "learner.load_encoder('adam3_10_enc')"
      ],
      "execution_count": 0,
      "outputs": []
    },
    {
      "metadata": {
        "id": "FIxOeIWmqJtZ",
        "colab_type": "code",
        "colab": {
          "base_uri": "https://localhost:8080/",
          "height": 34
        },
        "outputId": "cb4f87fb-6580-4e5d-f7cc-31b8263f81cf"
      },
      "cell_type": "code",
      "source": [
        "math.exp(4.165)"
      ],
      "execution_count": 40,
      "outputs": [
        {
          "output_type": "execute_result",
          "data": {
            "text/plain": [
              "64.3926824434624"
            ]
          },
          "metadata": {
            "tags": []
          },
          "execution_count": 40
        }
      ]
    },
    {
      "metadata": {
        "id": "aWM1ZBmhqPRT",
        "colab_type": "code",
        "colab": {}
      },
      "cell_type": "code",
      "source": [
        "pickle.dump(TEXT, open(f'{PATH}models/TEXT.pkl', 'wb'))"
      ],
      "execution_count": 0,
      "outputs": []
    },
    {
      "metadata": {
        "id": "WI3PdFWps7K2",
        "colab_type": "text"
      },
      "cell_type": "markdown",
      "source": [
        "Test"
      ]
    },
    {
      "metadata": {
        "id": "fUqFeV51qcrM",
        "colab_type": "code",
        "colab": {
          "base_uri": "https://localhost:8080/",
          "height": 34
        },
        "outputId": "e7a495f5-f711-4c9c-898e-ec964306fb42"
      },
      "cell_type": "code",
      "source": [
        "m = learner.model\n",
        "ss = \"\"\". So, it wasn't quite was I expecting, but I really liked it anyway! The best\"\"\"\n",
        "s = [TEXT.preprocess(ss)]\n",
        "t = TEXT.numericalize(s)\n",
        "' '.join(s[0])"
      ],
      "execution_count": 42,
      "outputs": [
        {
          "output_type": "execute_result",
          "data": {
            "text/plain": [
              "\". so , it was n't quite was i expecting , but i really liked it anyway ! the best\""
            ]
          },
          "metadata": {
            "tags": []
          },
          "execution_count": 42
        }
      ]
    },
    {
      "metadata": {
        "id": "MpV8Lt2fq_up",
        "colab_type": "code",
        "colab": {}
      },
      "cell_type": "code",
      "source": [
        "# Set batch to size 1\n",
        "m[0].bs = 1\n",
        "# Turn off dropout\n",
        "m.eval()\n",
        "# Reset hidden state\n",
        "m.reset()\n",
        "# Get predictions from model\n",
        "res, *_ = m(t)\n",
        "# Put the batch size back to what it was\n",
        "m[0].bs = bs"
      ],
      "execution_count": 0,
      "outputs": []
    },
    {
      "metadata": {
        "id": "wMvw_7uoro6z",
        "colab_type": "code",
        "colab": {
          "base_uri": "https://localhost:8080/",
          "height": 187
        },
        "outputId": "0c7b2338-51e5-47e3-89e3-fdc62a06d2e7"
      },
      "cell_type": "code",
      "source": [
        "# Top 10 predictions\n",
        "nexts = torch.topk(res[-1], 10)[1]\n",
        "[TEXT.vocab.itos[o] for o in to_np(nexts)]"
      ],
      "execution_count": 44,
      "outputs": [
        {
          "output_type": "execute_result",
          "data": {
            "text/plain": [
              "['part',\n",
              " 'thing',\n",
              " 'way',\n",
              " 'scene',\n",
              " 'parts',\n",
              " 'of',\n",
              " 'scenes',\n",
              " 'movie',\n",
              " 'aspect',\n",
              " 'i']"
            ]
          },
          "metadata": {
            "tags": []
          },
          "execution_count": 44
        }
      ]
    },
    {
      "metadata": {
        "id": "qgm883HysDfv",
        "colab_type": "code",
        "colab": {
          "base_uri": "https://localhost:8080/",
          "height": 108
        },
        "outputId": "ed5afc87-5311-4c90-cfdc-33bc24bbd75c"
      },
      "cell_type": "code",
      "source": [
        "print(ss, '\\n')\n",
        "for i in range(50):\n",
        "  n = res[-1].topk(2)[1]\n",
        "  n = n[1] if n.data[0]==0 else n[0]\n",
        "  print(TEXT.vocab.itos[n.data[0]], end=' ')\n",
        "  res, *_ = m(n[0].unsqueeze(0))\n",
        "print('...')"
      ],
      "execution_count": 45,
      "outputs": [
        {
          "output_type": "stream",
          "text": [
            ". So, it wasn't quite was I expecting, but I really liked it anyway! The best \n",
            "\n",
            "part of the story , and the story is about a young girl who is a woman who is a woman who is a woman . she is a woman who is a woman and is a woman who is a woman . she is a woman who is a ...\n"
          ],
          "name": "stdout"
        }
      ]
    },
    {
      "metadata": {
        "id": "t7GXSpGusrHp",
        "colab_type": "code",
        "colab": {}
      },
      "cell_type": "code",
      "source": [
        "TEXT = pickle.load(open(f'{PATH}models/TEXT.pkl', 'rb'))"
      ],
      "execution_count": 0,
      "outputs": []
    },
    {
      "metadata": {
        "id": "8wMh9zYOtp9w",
        "colab_type": "code",
        "colab": {
          "base_uri": "https://localhost:8080/",
          "height": 34
        },
        "outputId": "de1a2e85-457c-499c-cc09-f979f41190a2"
      },
      "cell_type": "code",
      "source": [
        "IMDB_LABEL = data.Field(sequential=False)\n",
        "splits = torchtext.datasets.IMDB.splits(TEXT, IMDB_LABEL, 'data/')"
      ],
      "execution_count": 47,
      "outputs": [
        {
          "output_type": "stream",
          "text": [
            "downloading aclImdb_v1.tar.gz\n"
          ],
          "name": "stdout"
        }
      ]
    },
    {
      "metadata": {
        "id": "ikQ6I46NuGLY",
        "colab_type": "code",
        "colab": {}
      },
      "cell_type": "code",
      "source": [
        "t = splits[0].examples[0]"
      ],
      "execution_count": 0,
      "outputs": []
    },
    {
      "metadata": {
        "id": "A2yj60MduKuV",
        "colab_type": "code",
        "colab": {
          "base_uri": "https://localhost:8080/",
          "height": 51
        },
        "outputId": "36817f18-59ba-4554-b12d-5005547f4783"
      },
      "cell_type": "code",
      "source": [
        "t.label, ' '.join(t.text[:16])"
      ],
      "execution_count": 49,
      "outputs": [
        {
          "output_type": "execute_result",
          "data": {
            "text/plain": [
              "('pos',\n",
              " \"i think ' blackadder the third ' is the best one of the series.<br /><br />actuelly\")"
            ]
          },
          "metadata": {
            "tags": []
          },
          "execution_count": 49
        }
      ]
    },
    {
      "metadata": {
        "id": "ci9STLR4uSCZ",
        "colab_type": "code",
        "colab": {}
      },
      "cell_type": "code",
      "source": [
        "md2 = TextData.from_splits(PATH, splits, bs)"
      ],
      "execution_count": 0,
      "outputs": []
    },
    {
      "metadata": {
        "id": "d6czRu4QuY3_",
        "colab_type": "code",
        "colab": {}
      },
      "cell_type": "code",
      "source": [
        "m3 = md2.get_model(opt_fn, 1500, bptt, emb_sz=em_sz, n_hid=nh,\n",
        "                  n_layers=nl, dropout=0.1, dropouti=0.4,\n",
        "                  wdrop=0.5, dropoute=0.05, dropouth=0.3)\n",
        "m3.reg_fn = partial(seq2seq_reg, alpha=2, beta=1)\n",
        "m3.load_encoder(f'adam3_10_enc')"
      ],
      "execution_count": 0,
      "outputs": []
    },
    {
      "metadata": {
        "id": "abIa-EaDwj3O",
        "colab_type": "code",
        "colab": {}
      },
      "cell_type": "code",
      "source": [
        "m3.clip = 25.\n",
        "lrs = np.array([1e-4, 1e-4, 1e-4, 1e-3, 1e-2])"
      ],
      "execution_count": 0,
      "outputs": []
    },
    {
      "metadata": {
        "id": "PGkSQZxTwyCc",
        "colab_type": "code",
        "colab": {
          "base_uri": "https://localhost:8080/",
          "height": 1020
        },
        "outputId": "a5ea1240-50e9-4b40-f038-a72c1298a6a8"
      },
      "cell_type": "code",
      "source": [
        "m3.freeze_to(-1)\n",
        "m3.fit(lrs/2, 1, metrics=[accuracy])\n",
        "m3.unfreeze()\n",
        "m3.fit(lrs, 1, metrics=[accuracy], cycle_len=1)"
      ],
      "execution_count": 53,
      "outputs": [
        {
          "output_type": "display_data",
          "data": {
            "application/vnd.jupyter.widget-view+json": {
              "model_id": "8d3842b58dd94a59a46044e886f34e6a",
              "version_minor": 0,
              "version_major": 2
            },
            "text/plain": [
              "HBox(children=(IntProgress(value=0, description='Epoch', max=1, style=ProgressStyle(description_width='initial…"
            ]
          },
          "metadata": {
            "tags": []
          }
        },
        {
          "output_type": "stream",
          "text": [
            "epoch      trn_loss   val_loss   accuracy   \n",
            "    0      0.673538   0.4045     0.819744  \n",
            "\n"
          ],
          "name": "stdout"
        },
        {
          "output_type": "display_data",
          "data": {
            "application/vnd.jupyter.widget-view+json": {
              "model_id": "887d3e5207d449f0bbeb0abd11513286",
              "version_minor": 0,
              "version_major": 2
            },
            "text/plain": [
              "HBox(children=(IntProgress(value=0, description='Epoch', max=1, style=ProgressStyle(description_width='initial…"
            ]
          },
          "metadata": {
            "tags": []
          }
        },
        {
          "output_type": "stream",
          "text": [
            "epoch      trn_loss   val_loss   accuracy   \n",
            "    0      0.48765    0.299093   0.880618  \n",
            "\n"
          ],
          "name": "stdout"
        },
        {
          "output_type": "execute_result",
          "data": {
            "text/plain": [
              "[array([0.29909]), 0.8806182960591874]"
            ]
          },
          "metadata": {
            "tags": []
          },
          "execution_count": 53
        }
      ]
    },
    {
      "metadata": {
        "id": "j7gctbBsxMPe",
        "colab_type": "code",
        "colab": {
          "base_uri": "https://localhost:8080/",
          "height": 1020
        },
        "outputId": "3d4c84f0-7738-458d-c38d-cd28caade268"
      },
      "cell_type": "code",
      "source": [
        "m3.fit(lrs, 7, metrics=[accuracy], cycle_len=1, cycle_save_name='imdb2')"
      ],
      "execution_count": 0,
      "outputs": [
        {
          "output_type": "display_data",
          "data": {
            "application/vnd.jupyter.widget-view+json": {
              "model_id": "ec2bed69f2e9436b992cbbb9c2baa93d",
              "version_minor": 0,
              "version_major": 2
            },
            "text/plain": [
              "HBox(children=(IntProgress(value=0, description='Epoch', max=7, style=ProgressStyle(description_width='initial…"
            ]
          },
          "metadata": {
            "tags": []
          }
        },
        {
          "output_type": "stream",
          "text": [
            "epoch      trn_loss   val_loss   accuracy   \n",
            "    0      0.427399   0.296208   0.889011  \n",
            "    1      0.394796   0.314634   0.881915  \n",
            "    2      0.372595   0.278263   0.89842   \n",
            "    3      0.354477   0.298867   0.892296  \n",
            "    4      0.335567   0.269756   0.901187  \n",
            "    5      0.323226   0.258334   0.909189  \n",
            "    6      0.317097   0.246910   0.920019  \n",
            "    7      0.291773   0.230986   0.935540  \n",
            "    8      0.276519   0.216932   0.939861  \n",
            "    9      0.260639   0.209276   0.941876  \n",
            "    10     0.256755   0.197156   0.942188  \n",
            "    11     0.249971   0.189553   0.943672  \n",
            "    12     0.227558   0.174399   0.942627  \n",
            "    13     0.217505   0.170748   0.943880  \n",
            "\n"
          ],
          "name": "stdout"
        },
        {
          "output_type": "execute_result",
          "data": {
            "text/plain": [
              "[array([0.943880])]"
            ]
          },
          "metadata": {
            "tags": []
          },
          "execution_count": 37
        }
      ]
    },
    {
      "metadata": {
        "id": "QSM8HBWGxZxT",
        "colab_type": "code",
        "colab": {}
      },
      "cell_type": "code",
      "source": [
        "m3.load_cycle('imdb2', 4)"
      ],
      "execution_count": 0,
      "outputs": []
    },
    {
      "metadata": {
        "id": "V1D3J4bqxeZR",
        "colab_type": "code",
        "colab": {}
      },
      "cell_type": "code",
      "source": [
        "accuracy_np(*m3.predict_with_targs())"
      ],
      "execution_count": 0,
      "outputs": [
        {
          "output_type": "execute_result",
          "data": {
            "text/plain": [
              "0.94207458918764952"
            ]
          },
          "metadata": {
            "tags": []
          },
          "execution_count": 40
        }
      ]
    }
  ]
}
